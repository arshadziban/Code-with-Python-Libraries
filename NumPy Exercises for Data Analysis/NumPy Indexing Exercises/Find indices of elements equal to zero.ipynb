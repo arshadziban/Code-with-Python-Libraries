{
 "cells": [
  {
   "cell_type": "code",
   "execution_count": 3,
   "id": "68beae5f",
   "metadata": {},
   "outputs": [
    {
     "name": "stdout",
     "output_type": "stream",
     "text": [
      "Original array:\n",
      "[[0 2 3]\n",
      " [4 1 0]\n",
      " [0 0 2]]\n",
      "\n",
      "Indices of null elements:\n",
      "[[0 0]\n",
      " [1 2]\n",
      " [2 0]\n",
      " [2 1]]\n"
     ]
    }
   ],
   "source": [
    "# importing \n",
    "import numpy as np\n",
    "\n",
    "# creating a 3-D Numpy array\n",
    "n_array = np.array([[0, 2, 3],\n",
    "                    [4, 1, 0],\n",
    "                    [0, 0, 2]])\n",
    "\n",
    "print(\"Original array:\")\n",
    "print(n_array)\n",
    "\n",
    "\n",
    "# using np.argwhere()\n",
    "print(\"\\nIndices of null elements:\")\n",
    "null = np.argwhere(n_array == 0)\n",
    "\n",
    "print(null)\n",
    "\n",
    "# 0 is at position (0, 0) (1st row, 1st column)\n",
    "# 0 is at position (1, 2) (2nd row, 3rd column)\n",
    "# 0 is at position (2, 0) (3rd row, 1st column)\n",
    "# 0 is at position (2, 1) (3rd row, 2nd column)"
   ]
  },
  {
   "cell_type": "code",
   "execution_count": null,
   "id": "993f5792",
   "metadata": {},
   "outputs": [],
   "source": []
  }
 ],
 "metadata": {
  "kernelspec": {
   "display_name": "Python 3 (ipykernel)",
   "language": "python",
   "name": "python3"
  },
  "language_info": {
   "codemirror_mode": {
    "name": "ipython",
    "version": 3
   },
   "file_extension": ".py",
   "mimetype": "text/x-python",
   "name": "python",
   "nbconvert_exporter": "python",
   "pygments_lexer": "ipython3",
   "version": "3.11.5"
  }
 },
 "nbformat": 4,
 "nbformat_minor": 5
}
