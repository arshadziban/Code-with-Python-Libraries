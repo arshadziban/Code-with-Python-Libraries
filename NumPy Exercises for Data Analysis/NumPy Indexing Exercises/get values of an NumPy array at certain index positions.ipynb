{
 "cells": [
  {
   "cell_type": "code",
   "execution_count": 4,
   "id": "443d1b02",
   "metadata": {},
   "outputs": [
    {
     "name": "stdout",
     "output_type": "stream",
     "text": [
      "Array 1:\n",
      "[[[11 25  7]\n",
      "  [30 45 55]\n",
      "  [20 45  7]]\n",
      "\n",
      " [[50 65  8]\n",
      "  [70 85 10]\n",
      "  [11 22 33]]\n",
      "\n",
      " [[19 69 36]\n",
      "  [ 1  5 24]\n",
      "  [ 4 20  9]]]\n",
      "Array 2:\n",
      "[[ 1 15 10]\n",
      " [ 6 40 50]\n",
      " [11  5 10]]\n",
      "Take 1, 15, 10, 6, 40 and 50 from Array 2 and put them in the 1st, 3rd, 5th, 9th, 11th, and 15th positions of Array 1\n",
      "Resultant Array:\n",
      "[[[ 1 25 15]\n",
      "  [30 10 55]\n",
      "  [20 45  6]]\n",
      "\n",
      " [[50 40  8]\n",
      "  [70 85 50]\n",
      "  [11 22 33]]\n",
      "\n",
      " [[19 69 36]\n",
      "  [ 1  5 24]\n",
      "  [ 4 20  9]]]\n"
     ]
    }
   ],
   "source": [
    "import numpy as np \n",
    "\n",
    "a1 = np.array([[[11, 25, 7], [30, 45, 55], [20, 45, 7]], \n",
    "                [[50, 65, 8], [70, 85, 10], [11, 22, 33]], \n",
    "                [[19, 69, 36], [1, 5, 24], [4, 20, 9]]]) \n",
    "\n",
    "print(\"Array 1:\") \n",
    "print(a1) \n",
    "\n",
    "a2 = np.array([[1, 15, 10], \n",
    "                [6, 40, 50], \n",
    "                [11, 5, 10]]) \n",
    "\n",
    "print(\"Array 2:\") \n",
    "print(a2) \n",
    "\n",
    "print(\"Take 1, 15, 10, 6, 40 and 50 from Array 2 and put them in the 1st, 3rd, 5th, 9th, 11th, and 15th positions of Array 1\")\n",
    "\n",
    "# Using the put function to place elements from a2 into a1 at the specified positions\n",
    "a1.put([0, 2, 4, 8, 10, 14], [1, 15, 10, 6, 40, 50]) \n",
    "\n",
    "print(\"Resultant Array:\")\n",
    "print(a1)"
   ]
  },
  {
   "cell_type": "code",
   "execution_count": null,
   "id": "959b781a",
   "metadata": {},
   "outputs": [],
   "source": []
  }
 ],
 "metadata": {
  "kernelspec": {
   "display_name": "Python 3 (ipykernel)",
   "language": "python",
   "name": "python3"
  },
  "language_info": {
   "codemirror_mode": {
    "name": "ipython",
    "version": 3
   },
   "file_extension": ".py",
   "mimetype": "text/x-python",
   "name": "python",
   "nbconvert_exporter": "python",
   "pygments_lexer": "ipython3",
   "version": "3.11.5"
  }
 },
 "nbformat": 4,
 "nbformat_minor": 5
}
