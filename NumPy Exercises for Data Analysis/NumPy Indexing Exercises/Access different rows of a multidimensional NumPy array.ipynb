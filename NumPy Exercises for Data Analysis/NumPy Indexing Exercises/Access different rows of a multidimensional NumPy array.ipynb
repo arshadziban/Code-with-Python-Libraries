{
 "cells": [
  {
   "cell_type": "markdown",
   "id": "685fb454",
   "metadata": {},
   "source": [
    "# Accessing the First and Last row of a 2-D NumPy array"
   ]
  },
  {
   "cell_type": "code",
   "execution_count": 2,
   "id": "af8b43d4",
   "metadata": {},
   "outputs": [
    {
     "name": "stdout",
     "output_type": "stream",
     "text": [
      "Orginal Array :\n",
      "[[10 20 30]\n",
      " [40  5 66]\n",
      " [70 88 94]]\n",
      "\n",
      "Accessed Rows :\n",
      "[[10 20 30]\n",
      " [70 88 94]]\n"
     ]
    }
   ],
   "source": [
    "\n",
    "import numpy as np \n",
    "\n",
    "arr = np.array([[10, 20, 30], \n",
    "                [40, 5, 66], \n",
    "                [70, 88, 94]]) \n",
    "\n",
    "print(\"Orginal Array :\") \n",
    "print(arr) \n",
    "\n",
    "res_arr = arr[[0,2]] \n",
    "print(\"\\nAccessed Rows :\") \n",
    "print(res_arr)\n"
   ]
  },
  {
   "cell_type": "markdown",
   "id": "e2d94024",
   "metadata": {},
   "source": [
    "# Accessing the Middle row of 2-D NumPy array"
   ]
  },
  {
   "cell_type": "code",
   "execution_count": 3,
   "id": "2c406374",
   "metadata": {},
   "outputs": [
    {
     "name": "stdout",
     "output_type": "stream",
     "text": [
      "Given Array :\n",
      "[[10 20 30]\n",
      " [40  5 66]\n",
      " [70 88 94]]\n",
      "\n",
      "Accessed Row :\n",
      "[40  5 66]\n"
     ]
    }
   ],
   "source": [
    "# Importing\n",
    "import numpy as np \n",
    "\n",
    "\n",
    "\n",
    "arr = np.array([[10, 20, 30], \n",
    "                [40, 5, 66], \n",
    "                [70, 88, 94]]) \n",
    "\n",
    "print(\"Given Array :\") \n",
    "print(arr) \n",
    "\n",
    "# Access the Middle row\n",
    "res_arr = arr[1] \n",
    "print(\"\\nAccessed Row :\") \n",
    "print(res_arr)\n"
   ]
  },
  {
   "cell_type": "markdown",
   "id": "93f4b702",
   "metadata": {},
   "source": [
    "# Accessing the Last three rows of 2-D NuNumPy py array"
   ]
  },
  {
   "cell_type": "code",
   "execution_count": 5,
   "id": "bc0520a0",
   "metadata": {},
   "outputs": [
    {
     "name": "stdout",
     "output_type": "stream",
     "text": [
      "Given Array :\n",
      "[[10 20 30]\n",
      " [40  5 66]\n",
      " [70 88 94]]\n",
      "\n",
      "Accessed Rows :\n",
      "[[40  5 66]\n",
      " [70 88 94]]\n"
     ]
    }
   ],
   "source": [
    "import numpy as np \n",
    "\n",
    "arr = np.array([[10, 20, 30], \n",
    "                [40, 5, 66], \n",
    "                [70, 88, 94]]) \n",
    "\n",
    "print(\"Given Array :\") \n",
    "print(arr) \n",
    "\n",
    "\n",
    "res_arr = arr[[1, 2]]  \n",
    "print(\"\\nAccessed Rows :\") \n",
    "print(res_arr)\n"
   ]
  },
  {
   "cell_type": "markdown",
   "id": "4ebfbb05",
   "metadata": {},
   "source": [
    "# Accessing the First two rows of a 2-D NumPy array"
   ]
  },
  {
   "cell_type": "code",
   "execution_count": 6,
   "id": "76f3460f",
   "metadata": {},
   "outputs": [
    {
     "name": "stdout",
     "output_type": "stream",
     "text": [
      "Given Array :\n",
      "[[  1.   20.    3.    1. ]\n",
      " [ 40.    5.   66.    7. ]\n",
      " [ 70.   88.    9.   11. ]\n",
      " [ 80.  100.   50.   77. ]\n",
      " [  1.    8.5   7.9   4.8]]\n",
      "\n",
      "Accessed Rows :\n",
      "[[ 1. 20.  3.  1.]\n",
      " [40.  5. 66.  7.]]\n"
     ]
    }
   ],
   "source": [
    "import numpy as np \n",
    "\n",
    "arr = np.array([[1, 20, 3, 1], \n",
    "                [40, 5, 66, 7], \n",
    "                [70, 88, 9, 11], \n",
    "                [80, 100, 50, 77], \n",
    "                [1, 8.5, 7.9, 4.8]]) \n",
    "\n",
    "print(\"Given Array :\") \n",
    "print(arr) \n",
    "\n",
    "res_arr = arr[:2]  # Slicing to select the first two rows\n",
    "print(\"\\nAccessed Rows :\") \n",
    "print(res_arr)\n"
   ]
  },
  {
   "cell_type": "code",
   "execution_count": null,
   "id": "51fb84ab",
   "metadata": {},
   "outputs": [],
   "source": []
  }
 ],
 "metadata": {
  "kernelspec": {
   "display_name": "Python 3 (ipykernel)",
   "language": "python",
   "name": "python3"
  },
  "language_info": {
   "codemirror_mode": {
    "name": "ipython",
    "version": 3
   },
   "file_extension": ".py",
   "mimetype": "text/x-python",
   "name": "python",
   "nbconvert_exporter": "python",
   "pygments_lexer": "ipython3",
   "version": "3.11.5"
  }
 },
 "nbformat": 4,
 "nbformat_minor": 5
}
