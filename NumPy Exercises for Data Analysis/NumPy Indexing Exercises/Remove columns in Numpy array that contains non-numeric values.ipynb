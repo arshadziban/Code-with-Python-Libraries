{
 "cells": [
  {
   "cell_type": "code",
   "execution_count": 4,
   "id": "8a770a17",
   "metadata": {
    "scrolled": true
   },
   "outputs": [
    {
     "name": "stdout",
     "output_type": "stream",
     "text": [
      "Given array:\n",
      "[[10.5 22.5  nan]\n",
      " [41.  52.5  nan]]\n",
      "\n",
      "Remove all columns containing non-numeric elements \n",
      "[[10.5 22.5]\n",
      " [41.  52.5]]\n"
     ]
    }
   ],
   "source": [
    "# Importing\n",
    "import numpy as np \n",
    "\n",
    "n_arr = np.array([[10.5, 22.5, np.nan], \n",
    "                    [41, 52.5, np.nan]]) \n",
    "\n",
    "print(\"Given array:\") \n",
    "print(n_arr) \n",
    "\n",
    "print(\"\\nRemove all columns containing non-numeric elements \") \n",
    "print(n_arr[:, ~np.isnan(n_arr).any(axis=0)]) \n"
   ]
  },
  {
   "cell_type": "code",
   "execution_count": null,
   "id": "1223a715",
   "metadata": {},
   "outputs": [],
   "source": []
  }
 ],
 "metadata": {
  "kernelspec": {
   "display_name": "Python 3 (ipykernel)",
   "language": "python",
   "name": "python3"
  },
  "language_info": {
   "codemirror_mode": {
    "name": "ipython",
    "version": 3
   },
   "file_extension": ".py",
   "mimetype": "text/x-python",
   "name": "python",
   "nbconvert_exporter": "python",
   "pygments_lexer": "ipython3",
   "version": "3.11.5"
  }
 },
 "nbformat": 4,
 "nbformat_minor": 5
}
