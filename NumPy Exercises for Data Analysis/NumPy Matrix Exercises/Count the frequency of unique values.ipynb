{
 "cells": [
  {
   "cell_type": "code",
   "execution_count": 1,
   "id": "4d63e1c7",
   "metadata": {},
   "outputs": [
    {
     "name": "stdout",
     "output_type": "stream",
     "text": [
      "Unique Values: [ 5  8  9 10 20]\n",
      "Frequency Values: [1 2 1 2 2]\n"
     ]
    }
   ],
   "source": [
    "# import library\n",
    "import numpy as np\n",
    "\n",
    "ini_array = np.array([10, 20, 5,10, 8, 20,8, 9])\n",
    "\n",
    "# Get a tuple of unique values \n",
    "# and their frequency in\n",
    "# numpy array\n",
    "unique, frequency = np.unique(ini_array, return_counts = True)\n",
    "# print unique values array\n",
    "print(\"Unique Values:\", unique)\n",
    "\n",
    "# print frequency array\n",
    "print(\"Frequency Values:\",frequency)\n"
   ]
  },
  {
   "cell_type": "code",
   "execution_count": null,
   "id": "25750235",
   "metadata": {},
   "outputs": [],
   "source": []
  }
 ],
 "metadata": {
  "kernelspec": {
   "display_name": "Python 3 (ipykernel)",
   "language": "python",
   "name": "python3"
  },
  "language_info": {
   "codemirror_mode": {
    "name": "ipython",
    "version": 3
   },
   "file_extension": ".py",
   "mimetype": "text/x-python",
   "name": "python",
   "nbconvert_exporter": "python",
   "pygments_lexer": "ipython3",
   "version": "3.11.5"
  }
 },
 "nbformat": 4,
 "nbformat_minor": 5
}
