{
 "cells": [
  {
   "cell_type": "code",
   "execution_count": 7,
   "id": "cfaacda8",
   "metadata": {},
   "outputs": [],
   "source": [
    "import numpy as np\n",
    "\n",
    "main_array = np.array([[1, 2, 3], [45, 4, 7], [9, 6, 10]])\n",
    "\n",
    "\n",
    "join_array = np.array([[100],[200],[300]])\n"
   ]
  },
  {
   "cell_type": "code",
   "execution_count": 6,
   "id": "d23df1b0",
   "metadata": {},
   "outputs": [
    {
     "data": {
      "text/plain": [
       "array([[  1,   2,   3, 100],\n",
       "       [ 45,   4,   7, 200],\n",
       "       [  9,   6,  10, 300]])"
      ]
     },
     "execution_count": 6,
     "metadata": {},
     "output_type": "execute_result"
    }
   ],
   "source": [
    "#Using np.append()\n",
    "column = np.append (main_array,join_array,axis=1)\n",
    "\n",
    "column"
   ]
  },
  {
   "cell_type": "code",
   "execution_count": 10,
   "id": "22b0c2f3",
   "metadata": {},
   "outputs": [
    {
     "data": {
      "text/plain": [
       "array([[  1,   2,   3, 100],\n",
       "       [ 45,   4,   7, 200],\n",
       "       [  9,   6,  10, 300]])"
      ]
     },
     "execution_count": 10,
     "metadata": {},
     "output_type": "execute_result"
    }
   ],
   "source": [
    "# Using np.concatenate\n",
    "concat = np.concatenate([main_array,join_array],axis=1)\n",
    "concat"
   ]
  },
  {
   "cell_type": "code",
   "execution_count": 13,
   "id": "79c9b165",
   "metadata": {},
   "outputs": [
    {
     "data": {
      "text/plain": [
       "array([[100, 200, 300,   1,   2,   3],\n",
       "       [100, 200, 300,  45,   4,   7],\n",
       "       [100, 200, 300,   9,   6,  10]])"
      ]
     },
     "execution_count": 13,
     "metadata": {},
     "output_type": "execute_result"
    }
   ],
   "source": [
    "#Using np.insert()\n",
    "\n",
    "insert_values = np.insert (main_array,0,join_array,axis=1)\n",
    "insert_values"
   ]
  },
  {
   "cell_type": "code",
   "execution_count": 16,
   "id": "9a02f54d",
   "metadata": {},
   "outputs": [
    {
     "data": {
      "text/plain": [
       "array([[ 1,  2,  3,  1],\n",
       "       [45,  4,  7,  2],\n",
       "       [ 9,  6, 10,  3]])"
      ]
     },
     "execution_count": 16,
     "metadata": {},
     "output_type": "execute_result"
    }
   ],
   "source": [
    "#Using np.hstack()  \n",
    "new = np.array([1, 2, 3])\n",
    "h_stack = np.hstack((main_array, np.atleast_2d(new).T))\n",
    "h_stack"
   ]
  },
  {
   "cell_type": "code",
   "execution_count": null,
   "id": "8b253ada",
   "metadata": {},
   "outputs": [],
   "source": []
  }
 ],
 "metadata": {
  "kernelspec": {
   "display_name": "Python 3 (ipykernel)",
   "language": "python",
   "name": "python3"
  },
  "language_info": {
   "codemirror_mode": {
    "name": "ipython",
    "version": 3
   },
   "file_extension": ".py",
   "mimetype": "text/x-python",
   "name": "python",
   "nbconvert_exporter": "python",
   "pygments_lexer": "ipython3",
   "version": "3.11.5"
  }
 },
 "nbformat": 4,
 "nbformat_minor": 5
}
