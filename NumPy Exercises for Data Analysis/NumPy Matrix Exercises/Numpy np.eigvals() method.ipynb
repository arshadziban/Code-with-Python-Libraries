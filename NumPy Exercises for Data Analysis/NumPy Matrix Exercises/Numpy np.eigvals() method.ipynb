{
 "cells": [
  {
   "cell_type": "code",
   "execution_count": 2,
   "id": "f364ed8f",
   "metadata": {},
   "outputs": [
    {
     "name": "stdout",
     "output_type": "stream",
     "text": [
      "[ 1.61168440e+01 -1.11684397e+00 -4.22209278e-16]\n"
     ]
    }
   ],
   "source": [
    "# import numpy \n",
    "from numpy import linalg as LA \n",
    "\n",
    "# using np.eigvals() method \n",
    "test = LA.eigvals([[1, 2, 3], [4, 5, 6], [7, 8, 9]]) \n",
    "\n",
    "print(test) \n"
   ]
  },
  {
   "cell_type": "code",
   "execution_count": null,
   "id": "1bd653a0",
   "metadata": {},
   "outputs": [],
   "source": []
  }
 ],
 "metadata": {
  "kernelspec": {
   "display_name": "Python 3 (ipykernel)",
   "language": "python",
   "name": "python3"
  },
  "language_info": {
   "codemirror_mode": {
    "name": "ipython",
    "version": 3
   },
   "file_extension": ".py",
   "mimetype": "text/x-python",
   "name": "python",
   "nbconvert_exporter": "python",
   "pygments_lexer": "ipython3",
   "version": "3.11.5"
  }
 },
 "nbformat": 4,
 "nbformat_minor": 5
}
