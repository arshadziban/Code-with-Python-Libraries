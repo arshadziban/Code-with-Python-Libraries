{
 "cells": [
  {
   "cell_type": "code",
   "execution_count": 1,
   "id": "38172a8a",
   "metadata": {},
   "outputs": [
    {
     "name": "stdout",
     "output_type": "stream",
     "text": [
      "Printing First matrix:\n",
      "[[2.+3.j 4.+5.j]\n",
      " [4.+5.j 6.+7.j]]\n",
      "Printing Second matrix:\n",
      "[[8. +7.j 5. +6.j]\n",
      " [9.+10.j 1. +2.j]]\n",
      "Product of first and second matrices are:\n",
      "(193-11j)\n"
     ]
    }
   ],
   "source": [
    "# importing numpy as library\n",
    "import numpy as np\n",
    "\n",
    "\n",
    "# creating matrix of complex number\n",
    "x = np.array([[2+3j, 4+5j], [4+5j, 6+7j]])\n",
    "print(\"Printing First matrix:\")\n",
    "print(x)\n",
    "\n",
    "y = np.array([[8+7j, 5+6j], [9+10j, 1+2j]])\n",
    "print(\"Printing Second matrix:\")\n",
    "print(y)\n",
    "\n",
    "# vector dot product of two matrices\n",
    "z = np.vdot(x, y)\n",
    "print(\"Product of first and second matrices are:\")\n",
    "print(z)\n"
   ]
  },
  {
   "cell_type": "code",
   "execution_count": null,
   "id": "4b94fd72",
   "metadata": {},
   "outputs": [],
   "source": []
  }
 ],
 "metadata": {
  "kernelspec": {
   "display_name": "Python 3 (ipykernel)",
   "language": "python",
   "name": "python3"
  },
  "language_info": {
   "codemirror_mode": {
    "name": "ipython",
    "version": 3
   },
   "file_extension": ".py",
   "mimetype": "text/x-python",
   "name": "python",
   "nbconvert_exporter": "python",
   "pygments_lexer": "ipython3",
   "version": "3.11.5"
  }
 },
 "nbformat": 4,
 "nbformat_minor": 5
}
