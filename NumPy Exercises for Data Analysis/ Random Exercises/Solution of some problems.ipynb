{
 "cells": [
  {
   "cell_type": "markdown",
   "id": "35860a4b",
   "metadata": {},
   "source": [
    "# Create a Numpy Array with Random Values"
   ]
  },
  {
   "cell_type": "code",
   "execution_count": 4,
   "id": "d8fc0e94",
   "metadata": {},
   "outputs": [
    {
     "name": "stdout",
     "output_type": "stream",
     "text": [
      "Random Array:\n",
      " [[0.86563391 0.38079164 0.04484007 0.07135402]\n",
      " [0.31776261 0.73990935 0.65626554 0.02394086]\n",
      " [0.99169445 0.71962304 0.58398826 0.69743585]]\n"
     ]
    }
   ],
   "source": [
    "import numpy as np\n",
    "\n",
    "random_array = np.random.rand(3, 4)\n",
    "\n",
    "print(\"Random Array:\\n\", random_array)"
   ]
  },
  {
   "cell_type": "markdown",
   "id": "e67ed265",
   "metadata": {},
   "source": [
    "# Choose Elements from a List with Different Probability"
   ]
  },
  {
   "cell_type": "code",
   "execution_count": 5,
   "id": "a3d46f82",
   "metadata": {},
   "outputs": [
    {
     "name": "stdout",
     "output_type": "stream",
     "text": [
      "\n",
      "Chosen Element with Probability: c\n"
     ]
    }
   ],
   "source": [
    "elements = ['a', 'b', 'c', 'd']\n",
    "probabilities = [0.1, 0.2, 0.5, 0.2]\n",
    "\n",
    "# Choose one element based on the given probabilities\n",
    "chosen_element = np.random.choice(elements, p = probabilities)\n",
    "\n",
    "print(\"\\nChosen Element with Probability:\", chosen_element)"
   ]
  },
  {
   "cell_type": "markdown",
   "id": "96657e69",
   "metadata": {},
   "source": [
    "# Get Weighted Random Choice"
   ]
  },
  {
   "cell_type": "code",
   "execution_count": 6,
   "id": "f8e1283e",
   "metadata": {},
   "outputs": [
    {
     "name": "stdout",
     "output_type": "stream",
     "text": [
      "\n",
      "Weighted Random Choices: ['c' 'c' 'b']\n"
     ]
    }
   ],
   "source": [
    "weights = [0.05, 0.15, 0.7, 0.1]\n",
    "\n",
    "weighted_choices = np.random.choice(elements, size=3, replace=True, p=weights)\n",
    "\n",
    "print(\"\\nWeighted Random Choices:\", weighted_choices)"
   ]
  },
  {
   "cell_type": "code",
   "execution_count": null,
   "id": "a1af5c16",
   "metadata": {},
   "outputs": [],
   "source": []
  }
 ],
 "metadata": {
  "kernelspec": {
   "display_name": "Python 3 (ipykernel)",
   "language": "python",
   "name": "python3"
  },
  "language_info": {
   "codemirror_mode": {
    "name": "ipython",
    "version": 3
   },
   "file_extension": ".py",
   "mimetype": "text/x-python",
   "name": "python",
   "nbconvert_exporter": "python",
   "pygments_lexer": "ipython3",
   "version": "3.11.5"
  }
 },
 "nbformat": 4,
 "nbformat_minor": 5
}
