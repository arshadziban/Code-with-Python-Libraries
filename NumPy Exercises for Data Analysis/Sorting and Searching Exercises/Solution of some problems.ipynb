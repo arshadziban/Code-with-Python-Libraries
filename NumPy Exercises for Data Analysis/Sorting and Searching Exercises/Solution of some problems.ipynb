{
 "cells": [
  {
   "cell_type": "markdown",
   "id": "c385e3c0",
   "metadata": {},
   "source": [
    "# Get the Indices of the Sorted 2D Array "
   ]
  },
  {
   "cell_type": "code",
   "execution_count": 7,
   "id": "b4651f1f",
   "metadata": {},
   "outputs": [
    {
     "name": "stdout",
     "output_type": "stream",
     "text": [
      "Original Array:\n",
      "[[10 40 30]\n",
      " [20 50 60]]\n",
      "\n",
      "Indices of sorted array (row-wise):\n",
      "[[0 2 1]\n",
      " [0 1 2]]\n"
     ]
    }
   ],
   "source": [
    "import numpy as np\n",
    "\n",
    "arr = np.array([[10, 40, 30], \n",
    "                [20, 50, 60]])\n",
    "\n",
    "sorted_indices = np.argsort(arr, axis=1) # axis=0 for column-wise\n",
    "\n",
    "print(\"Original Array:\")\n",
    "print(arr)\n",
    "print(\"\\nIndices of sorted array (row-wise):\")\n",
    "print(sorted_indices)\n"
   ]
  },
  {
   "cell_type": "markdown",
   "id": "70d23a1f",
   "metadata": {},
   "source": [
    "# Find the k Smallest Values of a 2D NumPy Array"
   ]
  },
  {
   "cell_type": "code",
   "execution_count": 2,
   "id": "d6ad389c",
   "metadata": {},
   "outputs": [
    {
     "name": "stdout",
     "output_type": "stream",
     "text": [
      "k Smallest Values (row-wise):\n",
      "[[1 2]\n",
      " [0 4]]\n"
     ]
    }
   ],
   "source": [
    "import numpy as np\n",
    "\n",
    "arr = np.array([[7, 1, 3, 5, 2], \n",
    "                [8, 6, 4, 9, 0]])\n",
    "\n",
    "k = 2  \n",
    "\n",
    "k_smallest_indices = np.argsort(arr, axis=1)[:, :k]\n",
    "\n",
    "k_smallest_values = np.take_along_axis(arr, k_smallest_indices, axis=1)\n",
    "\n",
    "print(\"k Smallest Values (row-wise):\")\n",
    "print(k_smallest_values)"
   ]
  },
  {
   "cell_type": "markdown",
   "id": "a0398fb1",
   "metadata": {},
   "source": [
    "# Get the n Largest Values of a 2D NumPy Array"
   ]
  },
  {
   "cell_type": "code",
   "execution_count": 3,
   "id": "0632cdbd",
   "metadata": {},
   "outputs": [
    {
     "name": "stdout",
     "output_type": "stream",
     "text": [
      "n Largest Values (row-wise):\n",
      "[[5 7]\n",
      " [8 9]]\n"
     ]
    }
   ],
   "source": [
    "import numpy as np\n",
    "\n",
    "arr = np.array([[7, 1, 3, 5, 2], \n",
    "                [8, 6, 4, 9, 0]])\n",
    "\n",
    "n = 2 \n",
    "\n",
    "n_largest_indices = np.argsort(arr, axis=1)[:, -n:]\n",
    "\n",
    "n_largest_values = np.take_along_axis(arr, n_largest_indices, axis=1)\n",
    "\n",
    "print(\"n Largest Values (row-wise):\")\n",
    "print(n_largest_values)\n"
   ]
  },
  {
   "cell_type": "markdown",
   "id": "b952d811",
   "metadata": {},
   "source": [
    "#  Sort the Values in a 2D Matrix"
   ]
  },
  {
   "cell_type": "code",
   "execution_count": 4,
   "id": "0f075dbf",
   "metadata": {},
   "outputs": [
    {
     "name": "stdout",
     "output_type": "stream",
     "text": [
      "Row-wise Sorted Matrix:\n",
      "[[1 3 4]\n",
      " [5 6 9]]\n"
     ]
    }
   ],
   "source": [
    "import numpy as np\n",
    "\n",
    "matrix = np.array([[3, 1, 4], \n",
    "                   [9, 5, 6]])\n",
    "\n",
    "# Sort each row\n",
    "sorted_matrix = np.sort(matrix, axis=1)\n",
    "\n",
    "print(\"Row-wise Sorted Matrix:\")\n",
    "print(sorted_matrix)\n"
   ]
  },
  {
   "cell_type": "markdown",
   "id": "c191ef3d",
   "metadata": {},
   "source": [
    "# Filter Out Integers from a Float 2D NumPy Array"
   ]
  },
  {
   "cell_type": "code",
   "execution_count": 8,
   "id": "89e4574a",
   "metadata": {},
   "outputs": [
    {
     "name": "stdout",
     "output_type": "stream",
     "text": [
      "Non-integer Values in 2D Array:\n",
      "[[1.2 2.5]\n",
      " [4.7 6.8]]\n"
     ]
    }
   ],
   "source": [
    "import numpy as np\n",
    "\n",
    "arr = np.array([[1.2, 2.5, 3.0], \n",
    "                [4.7, 5.0, 6.8]])\n",
    "\n",
    "# Filter out integers\n",
    "non_integers = arr[arr % 1 != 0].reshape(arr.shape[0], -1)\n",
    "\n",
    "print(\"Non-integer Values in 2D Array:\")\n",
    "print(non_integers)"
   ]
  },
  {
   "cell_type": "code",
   "execution_count": null,
   "id": "9521a7b3",
   "metadata": {},
   "outputs": [],
   "source": []
  }
 ],
 "metadata": {
  "kernelspec": {
   "display_name": "Python 3 (ipykernel)",
   "language": "python",
   "name": "python3"
  },
  "language_info": {
   "codemirror_mode": {
    "name": "ipython",
    "version": 3
   },
   "file_extension": ".py",
   "mimetype": "text/x-python",
   "name": "python",
   "nbconvert_exporter": "python",
   "pygments_lexer": "ipython3",
   "version": "3.11.5"
  }
 },
 "nbformat": 4,
 "nbformat_minor": 5
}
