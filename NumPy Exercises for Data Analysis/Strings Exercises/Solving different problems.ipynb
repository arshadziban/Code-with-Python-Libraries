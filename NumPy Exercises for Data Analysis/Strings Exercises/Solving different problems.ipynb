{
 "cells": [
  {
   "cell_type": "markdown",
   "id": "12278d7b",
   "metadata": {},
   "source": [
    "# Repeat all the elements of a NumPy array of strings"
   ]
  },
  {
   "cell_type": "code",
   "execution_count": 3,
   "id": "34e19dc4",
   "metadata": {},
   "outputs": [
    {
     "name": "stdout",
     "output_type": "stream",
     "text": [
      "['hellohellohellohello' 'worldworldworldworld']\n"
     ]
    }
   ],
   "source": [
    "import numpy as np\n",
    "arr = np.array(['hello', 'world'])\n",
    "result = np.char.multiply(arr, 4)\n",
    "print(result)\n"
   ]
  },
  {
   "cell_type": "markdown",
   "id": "0ab7b6e7",
   "metadata": {},
   "source": [
    "# Split the element of a given NumPy array with spaces"
   ]
  },
  {
   "cell_type": "code",
   "execution_count": 7,
   "id": "25859f48",
   "metadata": {},
   "outputs": [
    {
     "name": "stdout",
     "output_type": "stream",
     "text": [
      "[list(['Hello', 'World']) list(['Hello', 'Bangladesh'])]\n"
     ]
    }
   ],
   "source": [
    "arr = np.array(['Hello World', 'Hello Bangladesh'])\n",
    "result = np.char.split(arr,' ')\n",
    "print(result)\n"
   ]
  },
  {
   "cell_type": "markdown",
   "id": "75e149f9",
   "metadata": {},
   "source": [
    "# Insert a space between characters of all the elements"
   ]
  },
  {
   "cell_type": "code",
   "execution_count": 8,
   "id": "4e1ba904",
   "metadata": {},
   "outputs": [
    {
     "name": "stdout",
     "output_type": "stream",
     "text": [
      "['h e l l o' 'w o r l d']\n"
     ]
    }
   ],
   "source": [
    "arr = np.array(['hello', 'world'])\n",
    "result = np.char.join(' ', arr)\n",
    "print(result)"
   ]
  },
  {
   "cell_type": "markdown",
   "id": "e073091f",
   "metadata": {},
   "source": [
    "# Find the length of each string element "
   ]
  },
  {
   "cell_type": "code",
   "execution_count": 9,
   "id": "b9b37a30",
   "metadata": {},
   "outputs": [
    {
     "name": "stdout",
     "output_type": "stream",
     "text": [
      "[5 5]\n"
     ]
    }
   ],
   "source": [
    "arr = np.array(['hello', 'world'])\n",
    "result = np.char.str_len(arr)\n",
    "print(result)"
   ]
  },
  {
   "cell_type": "markdown",
   "id": "f51bef16",
   "metadata": {},
   "source": [
    "# Swap the case of an array of strings"
   ]
  },
  {
   "cell_type": "code",
   "execution_count": 10,
   "id": "1257b8a4",
   "metadata": {},
   "outputs": [
    {
     "name": "stdout",
     "output_type": "stream",
     "text": [
      "['hEllO' 'woRld']\n"
     ]
    }
   ],
   "source": [
    "arr = np.array(['HeLLo', 'WOrLD'])\n",
    "result = np.char.swapcase(arr)\n",
    "print(result)"
   ]
  },
  {
   "cell_type": "markdown",
   "id": "1059ddb9",
   "metadata": {},
   "source": [
    "# Change the case to uppercase of elements"
   ]
  },
  {
   "cell_type": "code",
   "execution_count": 11,
   "id": "57120763",
   "metadata": {},
   "outputs": [
    {
     "name": "stdout",
     "output_type": "stream",
     "text": [
      "['HELLO' 'WORLD']\n"
     ]
    }
   ],
   "source": [
    "arr = np.array(['hello', 'world'])\n",
    "result = np.char.upper(arr)\n",
    "print(result)"
   ]
  },
  {
   "cell_type": "markdown",
   "id": "3dab655b",
   "metadata": {},
   "source": [
    "# Change the case to lowercase of elements"
   ]
  },
  {
   "cell_type": "code",
   "execution_count": 12,
   "id": "673f30d6",
   "metadata": {},
   "outputs": [
    {
     "name": "stdout",
     "output_type": "stream",
     "text": [
      "['hello' 'world']\n"
     ]
    }
   ],
   "source": [
    "arr = np.array(['HELLO', 'WORLD'])\n",
    "result = np.char.lower(arr)\n",
    "print(result)"
   ]
  },
  {
   "cell_type": "markdown",
   "id": "91819e66",
   "metadata": {},
   "source": [
    "# Join String by a separator"
   ]
  },
  {
   "cell_type": "code",
   "execution_count": 13,
   "id": "025c34e1",
   "metadata": {},
   "outputs": [
    {
     "name": "stdout",
     "output_type": "stream",
     "text": [
      "['h-e-l-l-o' 'w-o-r-l-d']\n"
     ]
    }
   ],
   "source": [
    "arr = np.array(['hello', 'world'])\n",
    "separator = '-'\n",
    "result = np.char.join(separator, arr)\n",
    "print(result)"
   ]
  },
  {
   "cell_type": "markdown",
   "id": "c0a840eb",
   "metadata": {},
   "source": [
    "# Count the number of substrings"
   ]
  },
  {
   "cell_type": "code",
   "execution_count": 14,
   "id": "0f37be64",
   "metadata": {},
   "outputs": [
    {
     "name": "stdout",
     "output_type": "stream",
     "text": [
      "[1 1]\n"
     ]
    }
   ],
   "source": [
    "arr = np.array(['hello world', 'world of python'])\n",
    "substring = 'world'\n",
    "result = np.char.count(arr, substring)\n",
    "print(result)"
   ]
  },
  {
   "cell_type": "code",
   "execution_count": null,
   "id": "2206759d",
   "metadata": {},
   "outputs": [],
   "source": []
  }
 ],
 "metadata": {
  "kernelspec": {
   "display_name": "Python 3 (ipykernel)",
   "language": "python",
   "name": "python3"
  },
  "language_info": {
   "codemirror_mode": {
    "name": "ipython",
    "version": 3
   },
   "file_extension": ".py",
   "mimetype": "text/x-python",
   "name": "python",
   "nbconvert_exporter": "python",
   "pygments_lexer": "ipython3",
   "version": "3.11.5"
  }
 },
 "nbformat": 4,
 "nbformat_minor": 5
}
