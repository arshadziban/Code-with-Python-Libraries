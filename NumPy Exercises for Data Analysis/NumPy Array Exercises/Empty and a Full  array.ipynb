{
 "cells": [
  {
   "cell_type": "code",
   "execution_count": 1,
   "id": "16851d43",
   "metadata": {},
   "outputs": [
    {
     "name": "stdout",
     "output_type": "stream",
     "text": [
      "[[4.45057637e-308 1.78021527e-306 8.45549797e-307 1.37962049e-306]\n",
      " [1.11260619e-306 1.78010255e-306 9.79054228e-307 4.45057637e-308]\n",
      " [8.45596650e-307 9.34602321e-307 4.94065646e-322 1.86921143e-306]]\n"
     ]
    }
   ],
   "source": [
    "import numpy as np\n",
    "\n",
    "#empty arry\n",
    "empty_array_2d = np.empty((3, 4))\n",
    "print(empty_array_2d)\n"
   ]
  },
  {
   "cell_type": "code",
   "execution_count": 2,
   "id": "5cb54d34",
   "metadata": {},
   "outputs": [
    {
     "name": "stdout",
     "output_type": "stream",
     "text": [
      "[[5 5 5 5]\n",
      " [5 5 5 5]\n",
      " [5 5 5 5]]\n"
     ]
    }
   ],
   "source": [
    "# full arry\n",
    "full_array_2d = np.full((3, 4), 5)\n",
    "print(full_array_2d)"
   ]
  },
  {
   "cell_type": "code",
   "execution_count": 3,
   "id": "26e85b17",
   "metadata": {},
   "outputs": [
    {
     "name": "stdout",
     "output_type": "stream",
     "text": [
      "Empty Array\n",
      "[[7209071 5111900 4784214 4784196]\n",
      " [2097217 7733326 4980804 5439561]\n",
      " [3866706 3801155 5242972 7274610]]\n",
      "\n",
      " Full Array\n",
      "[[55 55 55]\n",
      " [55 55 55]\n",
      " [55 55 55]]\n"
     ]
    }
   ],
   "source": [
    "#we create an empty array of 3X4 and a full array of 3X3 of INTEGER type.\n",
    "\n",
    "\n",
    "# Create an empty array\n",
    "empa = np.empty((3, 4), dtype=int)\n",
    "print(\"Empty Array\")\n",
    "print(empa)\n",
    "\n",
    "# Create a full array\n",
    "flla = np.full([3, 3], 55, dtype=int)\n",
    "print(\"\\n Full Array\")\n",
    "print(flla)\n"
   ]
  },
  {
   "cell_type": "code",
   "execution_count": 4,
   "id": "e6fd1693",
   "metadata": {},
   "outputs": [
    {
     "name": "stdout",
     "output_type": "stream",
     "text": [
      "Empty Array\n",
      "[[6.23042070e-307 4.67296746e-307]\n",
      " [1.69121096e-306 2.33646845e-307]\n",
      " [1.42413555e-306 1.78019082e-306]\n",
      " [1.37959740e-306 2.29178686e-312]]\n",
      "\n",
      " Full Array\n",
      "[[95 95 95]\n",
      " [95 95 95]\n",
      " [95 95 95]\n",
      " [95 95 95]]\n"
     ]
    }
   ],
   "source": [
    "#we create an empty array of 4X2 and a full array of 4X3 of INTEGER and FLOAT type.\n",
    "\n",
    "\n",
    "# Create an empty array\n",
    "empa = np.empty([4, 2])\n",
    "print(\"Empty Array\")\n",
    "print(empa)\n",
    "\n",
    "# Create a full array\n",
    "flla = np.full([4, 3], 95)\n",
    "print(\"\\n Full Array\")\n",
    "print(flla)\n"
   ]
  },
  {
   "cell_type": "code",
   "execution_count": null,
   "id": "3df09695",
   "metadata": {},
   "outputs": [],
   "source": []
  }
 ],
 "metadata": {
  "kernelspec": {
   "display_name": "Python 3 (ipykernel)",
   "language": "python",
   "name": "python3"
  },
  "language_info": {
   "codemirror_mode": {
    "name": "ipython",
    "version": 3
   },
   "file_extension": ".py",
   "mimetype": "text/x-python",
   "name": "python",
   "nbconvert_exporter": "python",
   "pygments_lexer": "ipython3",
   "version": "3.11.5"
  }
 },
 "nbformat": 4,
 "nbformat_minor": 5
}
