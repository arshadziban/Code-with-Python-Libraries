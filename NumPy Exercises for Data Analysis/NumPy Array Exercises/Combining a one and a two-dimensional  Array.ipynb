{
 "cells": [
  {
   "cell_type": "code",
   "execution_count": 3,
   "id": "f534731c",
   "metadata": {},
   "outputs": [
    {
     "data": {
      "text/plain": [
       "array([0, 1])"
      ]
     },
     "execution_count": 3,
     "metadata": {},
     "output_type": "execute_result"
    }
   ],
   "source": [
    "import numpy as np\n",
    "\n",
    "# Create 1D array\n",
    "oneD_array = np.arange(2)\n",
    "oneD_array"
   ]
  },
  {
   "cell_type": "code",
   "execution_count": 5,
   "id": "0ac64717",
   "metadata": {},
   "outputs": [
    {
     "data": {
      "text/plain": [
       "array([[ 0,  1],\n",
       "       [ 2,  3],\n",
       "       [ 4,  5],\n",
       "       [ 6,  7],\n",
       "       [ 8,  9],\n",
       "       [10, 11]])"
      ]
     },
     "execution_count": 5,
     "metadata": {},
     "output_type": "execute_result"
    }
   ],
   "source": [
    "twoD_array = np.arange(12).reshape(6,2)\n",
    "twoD_array"
   ]
  },
  {
   "cell_type": "code",
   "execution_count": 7,
   "id": "f4661a04",
   "metadata": {},
   "outputs": [
    {
     "name": "stdout",
     "output_type": "stream",
     "text": [
      "0 0\n",
      "1 1\n",
      "0 2\n",
      "1 3\n",
      "0 4\n",
      "1 5\n",
      "0 6\n",
      "1 7\n",
      "0 8\n",
      "1 9\n",
      "0 10\n",
      "1 11\n"
     ]
    }
   ],
   "source": [
    "# Combine 1-D and 2-D arrays and display \n",
    "for a, b in np.nditer([oneD_array, twoD_array]):\n",
    "    print (a,b)\n",
    "    "
   ]
  },
  {
   "cell_type": "code",
   "execution_count": null,
   "id": "ee902961",
   "metadata": {},
   "outputs": [],
   "source": []
  }
 ],
 "metadata": {
  "kernelspec": {
   "display_name": "Python 3 (ipykernel)",
   "language": "python",
   "name": "python3"
  },
  "language_info": {
   "codemirror_mode": {
    "name": "ipython",
    "version": 3
   },
   "file_extension": ".py",
   "mimetype": "text/x-python",
   "name": "python",
   "nbconvert_exporter": "python",
   "pygments_lexer": "ipython3",
   "version": "3.11.5"
  }
 },
 "nbformat": 4,
 "nbformat_minor": 5
}
