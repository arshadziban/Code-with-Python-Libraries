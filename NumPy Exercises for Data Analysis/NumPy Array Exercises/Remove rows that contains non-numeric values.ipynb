{
 "cells": [
  {
   "cell_type": "code",
   "execution_count": 6,
   "id": "028b1e36",
   "metadata": {},
   "outputs": [
    {
     "name": "stdout",
     "output_type": "stream",
     "text": [
      "root array:\n",
      "[[10.5 22.5  3.8]\n",
      " [41.   nan  nan]]\n",
      "\r",
      "emoved all the nan values\n",
      "[[10.5 22.5  3.8]]\n"
     ]
    }
   ],
   "source": [
    "#How to Remove rows in Numpy array that contains non-numeric values?\n",
    "\n",
    "# Importing Numpy module\n",
    "import numpy as np\n",
    "\n",
    "# Creating a 2x3 2-D NumPy array\n",
    "n_arr = np.array([[10.5, 22.5, 3.8],\n",
    "                  [41, np.nan, np.nan]])\n",
    "\n",
    "print(\"root array:\")\n",
    "print(n_arr)\n",
    "\n",
    "print(\"\\removed all the nan values\")\n",
    "cleaned_arr = n_arr[~np.isnan(n_arr).any(axis=1)]\n",
    "print(cleaned_arr)\n"
   ]
  },
  {
   "cell_type": "code",
   "execution_count": null,
   "id": "a5ef843e",
   "metadata": {},
   "outputs": [],
   "source": []
  }
 ],
 "metadata": {
  "kernelspec": {
   "display_name": "Python 3 (ipykernel)",
   "language": "python",
   "name": "python3"
  },
  "language_info": {
   "codemirror_mode": {
    "name": "ipython",
    "version": 3
   },
   "file_extension": ".py",
   "mimetype": "text/x-python",
   "name": "python",
   "nbconvert_exporter": "python",
   "pygments_lexer": "ipython3",
   "version": "3.11.5"
  }
 },
 "nbformat": 4,
 "nbformat_minor": 5
}
