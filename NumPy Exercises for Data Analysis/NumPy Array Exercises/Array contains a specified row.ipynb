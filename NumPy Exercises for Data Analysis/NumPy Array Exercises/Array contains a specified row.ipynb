{
 "cells": [
  {
   "cell_type": "code",
   "execution_count": 1,
   "id": "ad256158",
   "metadata": {},
   "outputs": [
    {
     "name": "stdout",
     "output_type": "stream",
     "text": [
      "[[ 1  2  3  4  5]\n",
      " [ 6  7  8  9 10]\n",
      " [11 12 13 14 15]\n",
      " [16 17 18 19 20]]\n",
      "True\n",
      "False\n",
      "False\n",
      "True\n"
     ]
    }
   ],
   "source": [
    "# importing package \n",
    "import numpy \n",
    "\n",
    "# create numpy array \n",
    "arr = numpy.array([[1, 2, 3, 4, 5], \n",
    "[6, 7, 8, 9, 10], \n",
    "[11, 12, 13, 14, 15], \n",
    "[16, 17, 18, 19, 20] \n",
    "]) \n",
    "\n",
    "# view array \n",
    "print(arr) \n",
    "\n",
    "# check for some lists \n",
    "print([1, 2, 3, 4, 5] in arr.tolist()) \n",
    "print([16, 17, 20, 19, 18] in arr.tolist()) \n",
    "print([3, 2, 5, -4, 5] in arr.tolist()) \n",
    "print([11, 12, 13, 14, 15] in arr.tolist()) \n"
   ]
  },
  {
   "cell_type": "code",
   "execution_count": null,
   "id": "0d4a8a47",
   "metadata": {},
   "outputs": [],
   "source": []
  }
 ],
 "metadata": {
  "kernelspec": {
   "display_name": "Python 3 (ipykernel)",
   "language": "python",
   "name": "python3"
  },
  "language_info": {
   "codemirror_mode": {
    "name": "ipython",
    "version": 3
   },
   "file_extension": ".py",
   "mimetype": "text/x-python",
   "name": "python",
   "nbconvert_exporter": "python",
   "pygments_lexer": "ipython3",
   "version": "3.11.5"
  }
 },
 "nbformat": 4,
 "nbformat_minor": 5
}
