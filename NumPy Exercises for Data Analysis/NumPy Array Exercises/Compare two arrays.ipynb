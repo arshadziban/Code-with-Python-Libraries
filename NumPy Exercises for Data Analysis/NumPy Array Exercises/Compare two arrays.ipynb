{
 "cells": [
  {
   "cell_type": "code",
   "execution_count": 1,
   "id": "7063f62a",
   "metadata": {},
   "outputs": [
    {
     "data": {
      "text/plain": [
       "True"
      ]
     },
     "execution_count": 1,
     "metadata": {},
     "output_type": "execute_result"
    }
   ],
   "source": [
    "#import \n",
    "import numpy as np\n",
    "\n",
    "first_array = np.array([[1, 2], [3, 4]])\n",
    "second_array = np.array([[1, 2], [3, 4]])\n",
    "\n",
    "#compare\n",
    "com = first_array==second_array\n",
    "\n",
    "final_array= com.all()\n",
    "\n",
    "final_array"
   ]
  },
  {
   "cell_type": "code",
   "execution_count": 2,
   "id": "493dfb7e",
   "metadata": {},
   "outputs": [
    {
     "data": {
      "text/plain": [
       "False"
      ]
     },
     "execution_count": 2,
     "metadata": {},
     "output_type": "execute_result"
    }
   ],
   "source": [
    "first_array = np.array([[1, 6], [3, 4]])\n",
    "second_array = np.array([[1, 2], [3, 4]])\n",
    "\n",
    "#compare\n",
    "com = first_array==second_array\n",
    "\n",
    "final_array= com.all()\n",
    "\n",
    "final_array"
   ]
  },
  {
   "cell_type": "code",
   "execution_count": null,
   "id": "aa5c07e1",
   "metadata": {},
   "outputs": [],
   "source": []
  }
 ],
 "metadata": {
  "kernelspec": {
   "display_name": "Python 3 (ipykernel)",
   "language": "python",
   "name": "python3"
  },
  "language_info": {
   "codemirror_mode": {
    "name": "ipython",
    "version": 3
   },
   "file_extension": ".py",
   "mimetype": "text/x-python",
   "name": "python",
   "nbconvert_exporter": "python",
   "pygments_lexer": "ipython3",
   "version": "3.11.5"
  }
 },
 "nbformat": 4,
 "nbformat_minor": 5
}
